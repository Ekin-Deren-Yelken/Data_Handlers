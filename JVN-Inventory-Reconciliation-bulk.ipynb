{
 "cells": [
  {
   "cell_type": "markdown",
   "metadata": {},
   "source": [
    "# JVN-InvenRecon-bulkFormat\n",
    "\n",
    "### Author: Ekin Yelken\n",
    "Developed: May 2021\n",
    "\n",
    "Client: Self\n",
    "\n",
    "### Description: \n",
    "The objective of this code is to bulk format the data from an inventory reconciliation form (variable 'file') into an output csv (variable 'out) so it may be easily copy pasted into the 'JVN Inventory - v2' file.\n",
    "\n",
    "The input must be formated as a UTF-8 comma separrated value file. This can be done by using the \"Save As\" function in Excel and changing the file type in the drop down menu to '.csv'.\n",
    "\n",
    "### Work flow:\n",
    "- Import libraries\n",
    "- Determine I/O files\n",
    "- Read In file and write data to 'rows' array\n",
    "- Find Number of locations and their coressponding row\n",
    "- Find Row where titles are located and their coressponding column\n",
    "- Get Data:\n",
    "    - Open output file and write names of parameters\n",
    "    - Running L times for number of locations, find the start and end of the technologies entries for location N\n",
    "    - Calculate values of interest\n",
    "    - If entry is valid (not related to cables, floor track, cabling, or is not a misc/shiping/ delivery expense, add row to output\n",
    "- Close and reopen Output file (if already open or just open if not already open) to see results"
   ]
  },
  {
   "cell_type": "markdown",
   "metadata": {},
   "source": [
    "## Import Libraries"
   ]
  },
  {
   "cell_type": "markdown",
   "metadata": {},
   "source": [
    "Import necessary libraries, declate 'rows' array holding input data, declate file I/O names"
   ]
  },
  {
   "cell_type": "code",
   "execution_count": 1,
   "metadata": {},
   "outputs": [],
   "source": [
    "import csv\n",
    "import numpy as np\n",
    "file = 'MAG-463-13-440 Kent.csv' # name of Reconciliation file\n",
    "out = 'Output.csv'\n",
    "rows = [] # array of all of the rows in the input csv"
   ]
  },
  {
   "cell_type": "markdown",
   "metadata": {},
   "source": [
    "## Open Data"
   ]
  },
  {
   "cell_type": "markdown",
   "metadata": {},
   "source": [
    "Open Inventory Reconciliation File and Get Row data"
   ]
  },
  {
   "cell_type": "code",
   "execution_count": 2,
   "metadata": {},
   "outputs": [],
   "source": [
    "with open(file, 'r') as my_file:\n",
    "    reader = csv.reader(my_file)\n",
    "    rows = list(reader)"
   ]
  },
  {
   "cell_type": "markdown",
   "metadata": {},
   "source": [
    "## Location Names"
   ]
  },
  {
   "cell_type": "markdown",
   "metadata": {},
   "source": [
    "Return part of a string. In a cell containing \"Location:XXXXX\", this function returns only \"XXXXX\""
   ]
  },
  {
   "cell_type": "code",
   "execution_count": 3,
   "metadata": {},
   "outputs": [],
   "source": [
    "def getLoc(STR):\n",
    "    return STR[10:len(STR)]"
   ]
  },
  {
   "cell_type": "markdown",
   "metadata": {},
   "source": [
    "## Location Quanitity"
   ]
  },
  {
   "cell_type": "markdown",
   "metadata": {},
   "source": [
    "Number of locations in room may vary, this counts the number of locations"
   ]
  },
  {
   "cell_type": "code",
   "execution_count": 4,
   "metadata": {},
   "outputs": [],
   "source": [
    "L=0\n",
    "length = len(rows)\n",
    "for N in range(length):\n",
    "    STR = rows[N][0]\n",
    "    wordLoc = STR[0:8]\n",
    "    if(wordLoc == 'Location'):\n",
    "        L+=1"
   ]
  },
  {
   "cell_type": "markdown",
   "metadata": {},
   "source": [
    "## Find Location Row Number"
   ]
  },
  {
   "cell_type": "markdown",
   "metadata": {},
   "source": [
    "With number of locations, set an array called anchor which are the \"anchor\" row numbers"
   ]
  },
  {
   "cell_type": "code",
   "execution_count": 5,
   "metadata": {},
   "outputs": [],
   "source": [
    "anchor = np.zeros(L+1)\n",
    "counter = 0\n",
    "r = 7\n",
    "\n",
    "for N in range(length):\n",
    "    if (counter == L): \n",
    "        anchor[-1] = len(rows)\n",
    "        break\n",
    "    STR = rows[N][0]\n",
    "    wordLoc = STR[0:8]\n",
    "    Loc = getLoc(STR)\n",
    "    if(wordLoc == 'Location'):\n",
    "        anchor[counter] = N\n",
    "        counter+=1\n",
    "    if(STR == \"MANUFACTURER\"):\n",
    "        r = N"
   ]
  },
  {
   "cell_type": "markdown",
   "metadata": {},
   "source": [
    "## Parameter Coumn Number"
   ]
  },
  {
   "cell_type": "markdown",
   "metadata": {},
   "source": [
    "'r' symbolizes the row that the variable names are on. This number is based on formatting as when saved to CSV, the line containing parameter names is consistently 2 rows above the first \"Location:XXXXX\""
   ]
  },
  {
   "cell_type": "code",
   "execution_count": 6,
   "metadata": {},
   "outputs": [],
   "source": [
    "p = 0\n",
    "for index in range(13):\n",
    "    if(rows[r][index][0:3] == \"MAN\"):\n",
    "        #print(\"manu index found\", index)\n",
    "        manufacturer = index\n",
    "    elif(rows[r][index][0:3] == \"MOD\"):\n",
    "        #print(\"model index found\", index)\n",
    "        model = index\n",
    "    elif(rows[r][index][0:11] == \"DESCRIPTION\"):\n",
    "        #print(\"desc index found\", index)\n",
    "        description = index\n",
    "    elif(rows[r][index][0:3] == \"SER\"):\n",
    "        #print(\"seri index found\", index)\n",
    "        serial = index\n",
    "    elif(rows[r][index][0:3] == \"ORI\"):\n",
    "        #print(\"quant index found\", index)\n",
    "        quantity = index\n",
    "    elif(rows[r][index][0:3] == \"INS\"):\n",
    "        #print(\"inst index found\", index)\n",
    "        install = index\n",
    "    elif(rows[r][index][0:3] == \"PAR\"):\n",
    "        p+=1\n",
    "    elif(rows[r][index][0:3] == \"\"):\n",
    "        p+=1"
   ]
  },
  {
   "cell_type": "markdown",
   "metadata": {},
   "source": [
    "## Set Variable Names from CSV"
   ]
  },
  {
   "cell_type": "markdown",
   "metadata": {},
   "source": [
    "Set string names for referencing"
   ]
  },
  {
   "cell_type": "code",
   "execution_count": 7,
   "metadata": {},
   "outputs": [],
   "source": [
    "MANF = rows[r][manufacturer]\n",
    "MODEL = rows[r][model]\n",
    "DESC = rows[r][description]\n",
    "SERIAL = rows[r][serial]\n",
    "QTY = rows[r][quantity]\n",
    "LOCATION = \"LOCATION\""
   ]
  },
  {
   "cell_type": "markdown",
   "metadata": {},
   "source": [
    "## Array of Variable Names"
   ]
  },
  {
   "cell_type": "code",
   "execution_count": 8,
   "metadata": {},
   "outputs": [],
   "source": [
    "names = []\n",
    "names.append(str(MANF))\n",
    "names.append(str(MODEL))\n",
    "names.append(str('PART NO.'))\n",
    "names.append(str(DESC))\n",
    "names.append(str(QTY))\n",
    "names.append(str(SERIAL))\n",
    "names.append(str('INSALLED ACCESORIES'))\n",
    "names.append(str(LOCATION.upper()))\n",
    "#print(names)\n",
    "#print(\"column numbers\")\n",
    "#print(manufacturer, model, description, serial, quantity, install)"
   ]
  },
  {
   "cell_type": "markdown",
   "metadata": {},
   "source": [
    "## Get Location & Set correct Number of entries"
   ]
  },
  {
   "cell_type": "markdown",
   "metadata": {},
   "source": [
    "Format Data based on parameters"
   ]
  },
  {
   "cell_type": "code",
   "execution_count": 9,
   "metadata": {},
   "outputs": [
    {
     "name": "stdout",
     "output_type": "stream",
     "text": [
      "Done!\n"
     ]
    }
   ],
   "source": [
    "total = 0\n",
    "subtracted = 0\n",
    "\n",
    "with open(out, mode='w') as output:\n",
    "    # open output file and write names of parameters\n",
    "    writer = csv.writer(output, delimiter=',', quotechar='\"', quoting=csv.QUOTE_MINIMAL)\n",
    "    writer.writerow(names)\n",
    "    \n",
    "    # This will run L times for number of locations\n",
    "    for N in range(1,L+1):\n",
    "\n",
    "        index = int(anchor[N-1]) # row index where technology for location N begins\n",
    "        final = int(anchor[N]) # row index where techbology for lcoation N ends\n",
    "\n",
    "        numTech = final-index-1 # number of technologies at location N\n",
    "        locationName = getLoc(str(rows[index][0])) # name of the location\n",
    "        total += numTech # total number of entries\n",
    "        \n",
    "        # ignore any cable related entires\n",
    "        if (locationName != 'Floor Track' and locationName != 'Cable' and locationName != 'Cabling'):\n",
    "            for i in range(numTech):\n",
    "                Idx = index+i+1 # index number\n",
    "                if (rows[Idx][0] != \"\"):\n",
    "                    # write a row into output file with correct data\n",
    "                    writer.writerow(np.array([rows[Idx][manufacturer], rows[Idx][model], \"\", rows[Idx][description], rows[Idx][quantity][0:1], rows[Idx][serial], rows[Idx][install][0:1], str(locationName)]))\n",
    "                else: # if manufacturer is blank, entry is most probably some misc/shiping/ delivery expense, ignore it\n",
    "                    subtracted += 1\n",
    "        else: # calculate final number of entries made accounting for entries ignored.\n",
    "            subtracted += numTech\n",
    "\n",
    "print(\"Done!\")\n",
    "#print(\"Final Number Entries: \", total-subtracted)"
   ]
  }
 ],
 "metadata": {
  "kernelspec": {
   "display_name": "Python 3",
   "language": "python",
   "name": "python3"
  },
  "language_info": {
   "codemirror_mode": {
    "name": "ipython",
    "version": 3
   },
   "file_extension": ".py",
   "mimetype": "text/x-python",
   "name": "python",
   "nbconvert_exporter": "python",
   "pygments_lexer": "ipython3",
   "version": "3.8.5"
  }
 },
 "nbformat": 4,
 "nbformat_minor": 4
}
