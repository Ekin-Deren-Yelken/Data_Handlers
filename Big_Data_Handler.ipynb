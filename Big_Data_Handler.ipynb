{
 "cells": [
  {
   "cell_type": "markdown",
   "metadata": {},
   "source": [
    "### Import Libraries"
   ]
  },
  {
   "cell_type": "code",
   "execution_count": 1,
   "metadata": {},
   "outputs": [],
   "source": [
    "import csv\n",
    "import matplotlib.pyplot as plt\n",
    "import numpy as np\n",
    "import pandas as pd\n",
    "from openpyxl import Workbook"
   ]
  },
  {
   "cell_type": "markdown",
   "metadata": {},
   "source": [
    "### Segment Data\n",
    "Get data in 10 segments which represent 15 minutes of data per segment."
   ]
  },
  {
   "cell_type": "code",
   "execution_count": 55,
   "metadata": {},
   "outputs": [],
   "source": [
    "filename = 'cD.csv'\n",
    "size = 900\n",
    "\n",
    "chunks = []\n",
    "\n",
    "bigChedd = 0\n",
    "\n",
    "for chunk in pd.read_csv(filename, chunksize=size):\n",
    "    chunks.append(chunk)\n",
    "    bigChedd +=1\n",
    "    if bigChedd == 10: break"
   ]
  },
  {
   "cell_type": "markdown",
   "metadata": {},
   "source": [
    "### Automate Data Aquisition"
   ]
  },
  {
   "cell_type": "code",
   "execution_count": 40,
   "metadata": {},
   "outputs": [],
   "source": [
    "# define column names of interest\n",
    "CHG_V_headerName = \"CHG_VOut[V]\"\n",
    "CHG_I_headerName = \"CHG_IOut[A]\"\n",
    "BAT_I_headerName = \"BATT_Current_String_Min[Amps]\"\n",
    "#Heater_Iout = Charger_Iout - Battery_Iout\n",
    "\n",
    "headers = {\n",
    "    0 : CHG_V_headerName,\n",
    "    1 : CHG_I_headerName,\n",
    "    2 : BAT_I_headerName\n",
    "    }\n",
    "\n",
    "def get_time_and_data(column_headerName, df):\n",
    "    column_number = df.columns.get_loc(column_headerName)\n",
    "    data = df.iloc[:, column_number]\n",
    "    time = df.iloc[:, column_number+1]\n",
    "    return data, time\n",
    "\n",
    "def header_cases(arg, df):\n",
    "    header = headers.get(arg)\n",
    "    return get_time_and_data(header, df)\n",
    "\n",
    "def get_header_values(df):\n",
    "    chunksDT = []\n",
    "    for i in range(len(headers)):\n",
    "        data, time = header_cases(i, df)\n",
    "        temp = []\n",
    "        if data.shape == time.shape:\n",
    "            temp = [(d, t) for d, t in zip(data, time)]\n",
    "        \n",
    "        name_start_idx = headers[i].rfind(':')\n",
    "        name = headers[i][name_start_idx+1:]\n",
    "        chunksDT.append((name, temp))\n",
    "        \n",
    "    return chunksDT\n",
    "\n",
    "def to_excel(wb, data, sheetNumber):\n",
    "    colSkip = 1\n",
    "    sheetName = f'Group{sheetNumber}'\n",
    "    sheet = wb.create_sheet(title=sheetName) # Create and name a new sheet\n",
    "    wb.active = wb[sheetName]\n",
    "    for sheet_data in data:\n",
    "        \n",
    "        sheet.cell(row=1, column=colSkip, value=sheet_data[0])\n",
    "        idx = sheet_data[0].rfind('[')\n",
    "        sheet.cell(row=1, column=colSkip+1, value=f'{sheet_data[0][:idx]} Time[s]')\n",
    "        \n",
    "        for row_index, row_data in enumerate(sheet_data[1], start=2):\n",
    "            for col_index, value in enumerate(row_data, start=colSkip):\n",
    "                sheet.cell(row=row_index, column=col_index, value=value)\n",
    "        colSkip += 2"
   ]
  },
  {
   "cell_type": "markdown",
   "metadata": {},
   "source": [
    "### Create an Excel File and Output Data"
   ]
  },
  {
   "cell_type": "code",
   "execution_count": 58,
   "metadata": {},
   "outputs": [],
   "source": [
    "wb = Workbook() # create workbook object"
   ]
  },
  {
   "cell_type": "code",
   "execution_count": 59,
   "metadata": {},
   "outputs": [],
   "source": [
    "num = 1\n",
    "for chunk_df in chunks:\n",
    "    data = get_header_values(chunk_df)\n",
    "\n",
    "    to_excel(wb, data, sheetNumber=num)\n",
    "    num+=1\n",
    "wb.save('output.xlsx')"
   ]
  }
 ],
 "metadata": {
  "kernelspec": {
   "display_name": "Python 3",
   "language": "python",
   "name": "python3"
  },
  "language_info": {
   "codemirror_mode": {
    "name": "ipython",
    "version": 3
   },
   "file_extension": ".py",
   "mimetype": "text/x-python",
   "name": "python",
   "nbconvert_exporter": "python",
   "pygments_lexer": "ipython3",
   "version": "3.8.5"
  }
 },
 "nbformat": 4,
 "nbformat_minor": 4
}
